{
 "cells": [
  {
   "cell_type": "code",
   "execution_count": 73,
   "metadata": {},
   "outputs": [
    {
     "name": "stdout",
     "output_type": "stream",
     "text": [
      "sample size :       15\n",
      "mean :              41.266666666666666\n",
      "median :            43.0\n",
      "min value :         5\n",
      "max value :         87\n",
      "range :             82\n",
      "standard deviation: 25.632011235952593\n",
      "variance: 657\n",
      "mode: 5\n",
      "Quartiles\n",
      "Q1: 21.0\n",
      "Q2: 43.0\n",
      "Q3: 55.5\n",
      "Skew Coefficient: -0.20287132180662643\n"
     ]
    },
    {
     "data": {
      "image/png": "[encoded data removed]",
      "text/plain": [
       "<Figure size 432x288 with 1 Axes>"
      ]
     },
     "metadata": {
      "needs_background": "light"
     },
     "output_type": "display_data"
    }
   ],
   "source": [
    "from statistics import mode, variance, pvariance, stdev, pstdev\n",
    "import numpy as np\n",
    "from matplotlib import pyplot as plt\n",
    "\n",
    "#TODO\n",
    "# Identify Nominal, Ordinal and metric data\n",
    "\n",
    "def descriptiveAnalysis(x, isSample=True, showOutput=False):\n",
    "    '''Performs basic analysis on a data set, \n",
    "       calculates mean, median, standard deviation, etc.\n",
    "       \n",
    "       Inputs\n",
    "       -------\n",
    "       x : numpy.array object\n",
    "           The dataset\n",
    "       isSample : Boolean (True/False)\n",
    "           Some statistical calculations depend upon whether \n",
    "           the data is sample or population data\n",
    "       showOutput : Boolean (True/False)\n",
    "           Whether or not to print out the resulting statistics.\n",
    "           Otherwise, the results will only be returned \n",
    "           as a dictionary.\n",
    "           \n",
    "       Outputs\n",
    "       -------\n",
    "       stats : dictionary\n",
    "           Dictionary containing the calculated statistics\n",
    "    '''\n",
    "\n",
    "    # sample size\n",
    "    size = x.size\n",
    "    \n",
    "    # range data\n",
    "    x_min = np.min(x)\n",
    "    x_max = np.max(x)\n",
    "    r = x_max - x_min\n",
    "    \n",
    "    # Quartiles\n",
    "    q1 = np.percentile(x, 25)\n",
    "    q2 = np.percentile(x, 50)\n",
    "    q3 = np.percentile(x, 75)\n",
    "    interquartileRange = q3 - q1\n",
    "\n",
    "\n",
    "    m = np.mean(x)\n",
    "    # Mode (most common number) is a robust measure of central location \n",
    "    # for nominal level data\n",
    "    mo = mode(x)\n",
    "\n",
    "    # The median is a robust measure of central location for ordinal level\n",
    "    # data, and is less affected by the presence of outliers in your data. \n",
    "    # When the number of data points is odd, the middle data point is \n",
    "    # returned. When the number of data points is even, the median is \n",
    "    # interpolated by taking the average of the two middle values\n",
    "    #\n",
    "    # This is suited for when your data is discrete, and you don’t mind\n",
    "    # that the median may not be an actual data point.\n",
    "    #\n",
    "    # If your data is ordinal (supports order operations) but not numeric \n",
    "    # (doesn’t support addition), you should use median_low() or\n",
    "    # median_high() instead.\n",
    "    me = np.median(x)\n",
    "    \n",
    "\n",
    "    if isSample:\n",
    "        ## Sample Data\n",
    "        s = stdev(x)\n",
    "        # Variance, or second moment about the mean, is a measure of the \n",
    "        # variability (spread or dispersion) of data. A large variance \n",
    "        # indicates that the data is spread out; a small variance indicates \n",
    "        # it is clustered closely around the mean.\n",
    "        v = variance(x) # == stdev**2\n",
    "    else:\n",
    "        ## Population Data\n",
    "        s = pstdev(x)\n",
    "        v = pvariance(x)\n",
    "\n",
    "    # Pearson's second skewness coefficient (median skewness)\n",
    "    skewCoefficient = 3 * (m - me) / s\n",
    "    \n",
    "    stats = {'size': size, 'mean': m, 'median': me, 'mode': mo, \n",
    "            'min': x_min, 'max': x_max, 'range': r, 'stdev': s, \n",
    "            'variance': v, 'q1': q1, 'q2': q2, 'q3': q3,\n",
    "            'interquartileRange': interquartileRange,\n",
    "            'skewCoefficient': skewCoefficient,}\n",
    "    \n",
    "    if showOutput:\n",
    "        print(\"sample size :       {}\".format(size),\n",
    "              \"mean :              {}\".format(m),\n",
    "              \"median :            {}\".format(me),\n",
    "              \"min value :         {}\".format(x_min),\n",
    "              \"max value :         {}\".format(x_max),\n",
    "              \"range :             {}\".format(r),\n",
    "              \"standard deviation: {}\".format(s),\n",
    "              \"variance: {}\".format(v),\n",
    "              \"mode: {}\".format(mo),\n",
    "              \"Quartiles\",\n",
    "              \"Q1: {}\".format(q1),\n",
    "              \"Q2: {}\".format(q2),\n",
    "              \"Q3: {}\".format(q3),\n",
    "              \"Skew Coefficient: {}\".format(skewCoefficient), sep='\\n')\n",
    "\n",
    "    return stats\n",
    "\n",
    "def boxPlot(x):\n",
    "    plt.boxplot(x, vert=False, showmeans=True)\n",
    "    plt.grid(axis='x',linestyle='--')\n",
    "    plt.show()\n",
    "\n",
    "x = np.array([22,87,5,43,56,73,55,54,11,20,51,5,79,31,27])\n",
    "descriptiveAnalysis(x,False, True)\n",
    "boxPlot(x)"
   ]
  },
  {
   "cell_type": "markdown",
   "metadata": {},
   "source": []
  },
  {
   "cell_type": "code",
   "execution_count": 82,
   "metadata": {},
   "outputs": [
    {
     "data": {
      "image/png": "[encoded data removed]",
      "text/plain": [
       "<Figure size 432x288 with 1 Axes>"
      ]
     },
     "metadata": {
      "needs_background": "light"
     },
     "output_type": "display_data"
    }
   ],
   "source": [
    "from math import log\n",
    "\n",
    "def frequencyDistribution(x, n=None):\n",
    "    \"\"\"Creates a histogram displaying a frequency distribution of data.\n",
    "    Especially useful for Nominal or Ordinal data\n",
    "    \n",
    "       Inputs\n",
    "       -------\n",
    "    x : numpy.array object\n",
    "        The dataset\n",
    "    n : int\n",
    "        Number of bins (classes) to use to group the data. If n is\n",
    "        not supplied, it will be calculated using Scott's Rule\n",
    "    \"\"\"\n",
    "    # x = dataSet (python list)\n",
    "    # n = number of bins\n",
    "\n",
    "    stats = descriptiveAnalysis(x,False, False)\n",
    "    \n",
    "    # if number of bins is not supplied, use Scott's Rules\n",
    "    if not n:\n",
    "        n = round(3.5*stats['stdev']*len(x)**(-1/3))\n",
    "        \n",
    "    # Create Bins array\n",
    "    bins = []\n",
    "    binSize = round(stats['range'] / n)\n",
    "    for i in range(0,n+1):\n",
    "        bins.append(stats['min'] + i*binSize)\n",
    "    \n",
    "    hist, bins = np.histogram(x, bins)\n",
    "    plt.hist(x, bins, alpha=0.5, ec='black')\n",
    "    plt.title(\"histogram\")\n",
    "    plt.show()\n",
    "    \n",
    "x = np.array([22,87,5,43,56,73,55,54,11,20,51,5,79,31,27])\n",
    "frequencyDistribution(x,6)\n"
   ]
  },
  {
   "cell_type": "code",
   "execution_count": 28,
   "metadata": {},
   "outputs": [
    {
     "name": "stdout",
     "output_type": "stream",
     "text": [
      "0.6930525298193005\n"
     ]
    }
   ],
   "source": [
    "from statistics import mean\n",
    "from math import sqrt\n",
    "\n",
    "def correlationCoefficient(x,y):\n",
    "    assert len(x) == len(y), \"Datasets must be the same length\"\n",
    "        \n",
    "    n = len(x)\n",
    "    num1 = sum([i * j for i, j in zip(x,y)])\n",
    "    num2 = n * mean(x) * mean(y)\n",
    "    den1 = sum([i**2 for i in x]) - n * mean(x)**2\n",
    "    den2 = sum([i**2 for i in y]) - n * mean(y)**2\n",
    "    print((num1 - num2) / (sqrt(den1) * sqrt(den2)))\n",
    "    \n",
    "x = [95,85,80,70,60,]\n",
    "y = [85,95,70,65,70]\n",
    "\n",
    "correlationCoefficient(x,y)"
   ]
  },
  {
   "cell_type": "code",
   "execution_count": 4,
   "metadata": {},
   "outputs": [
    {
     "data": {
      "text/plain": [
       "[2, 3, 4, 5, 6]"
      ]
     },
     "execution_count": 4,
     "metadata": {},
     "output_type": "execute_result"
    }
   ],
   "source": [
    "a = [4,6,2,3,5]\n",
    "a.sort()\n",
    "a"
   ]
  },
  {
   "cell_type": "code",
   "execution_count": 63,
   "metadata": {},
   "outputs": [
    {
     "name": "stdout",
     "output_type": "stream",
     "text": [
      "Estimated coefficients:\n",
      "b_0 = 26.78082191780822 \n",
      "b_1 = 0.6438356164383562\n"
     ]
    },
    {
     "data": {
      "image/png": "[encoded data removed]",
      "text/plain": [
       "<Figure size 432x288 with 1 Axes>"
      ]
     },
     "metadata": {
      "needs_background": "light"
     },
     "output_type": "display_data"
    }
   ],
   "source": [
    "import numpy as np \n",
    "import matplotlib.pyplot as plt \n",
    "\n",
    "def simpleRegression(x, y): \n",
    "    # number of observations/points \n",
    "    assert len(x) == len(y), \"Datasets must be the same length\"\n",
    "    \n",
    "    n = np.size(x) \n",
    "\n",
    "    # mean of x and y vector \n",
    "    m_x, m_y = np.mean(x), np.mean(y) \n",
    "\n",
    "    # calculating cross-deviation and deviation about x \n",
    "    SS_xy = np.sum(y*x) - n*m_y*m_x \n",
    "    SS_xx = np.sum(x*x) - n*m_x*m_x \n",
    "\n",
    "    # calculating regression coefficients \n",
    "    b_1 = SS_xy / SS_xx \n",
    "    b_0 = m_y - b_1*m_x \n",
    "\n",
    "    return(b_0, b_1) \n",
    "\n",
    "def plot_regression_line(x, y, b): \n",
    "    # plotting the actual points as scatter plot \n",
    "    plt.scatter(x, y, color = \"m\", \n",
    "            marker = \"o\", s = 30) \n",
    "\n",
    "    # predicted response vector \n",
    "    y_pred = b[0] + b[1]*x \n",
    "\n",
    "    # plotting the regression line \n",
    "    plt.plot(x, y_pred, color = \"g\") \n",
    "\n",
    "    # putting labels \n",
    "    plt.xlabel('x') \n",
    "    plt.ylabel('y')\n",
    "\n",
    "    # function to show plot \n",
    "    plt.grid(linestyle='--')\n",
    "    plt.show() \n",
    "\n",
    "def main(): \n",
    "    # observations \n",
    "    x = np.array([0, 1, 2, 3, 4, 5, 6, 7, 8, 9]) \n",
    "    y = np.array([1, 3, 2, 5, 7, 8, 8, 9, 10, 12]) \n",
    "    \n",
    "    x = np.array([95,85,80,70,60,])\n",
    "    y = np.array([85,95,70,65,70])\n",
    "\n",
    "    # estimating coefficients \n",
    "    b = simpleRegression(x, y) \n",
    "    print(\"Estimated coefficients:\\nb_0 = {} \\nb_1 = {}\".format(b[0], b[1])) \n",
    "\n",
    "    # plotting regression line \n",
    "    plot_regression_line(x, y, b) \n",
    "\n",
    "if __name__ == \"__main__\": \n",
    "    main()\n",
    " \n",
    "\n",
    "\n"
   ]
  },
  {
   "cell_type": "code",
   "execution_count": 36,
   "metadata": {
    "scrolled": true
   },
   "outputs": [
    {
     "data": {
      "text/plain": [
       "2.449489742783178"
      ]
     },
     "execution_count": 36,
     "metadata": {},
     "output_type": "execute_result"
    }
   ],
   "source": [
    "from math import sqrt\n",
    "\n",
    "x = [1,1,1,1,0]\n",
    "y = [1,0,1,0,4]\n",
    "\n",
    "def euclideanDistance(x,y):\n",
    "    distance = sqrt( sum( [ abs( i-j ) for i,j in zip(x,y)]))\n",
    "    return distance\n",
    "\n",
    "euclideanDistance(x,y)"
   ]
  },
  {
   "cell_type": "code",
   "execution_count": 38,
   "metadata": {},
   "outputs": [],
   "source": [
    "'''A confusion matrix is a table that is often used to describe the performance of a classification model \n",
    "(or \"classifier\") on a set of test data for which the true values are known.'''\n",
    "\n",
    "import numpy\n",
    "\n",
    "def confusionMatrix(A):\n",
    "    # A is a numpy matrix of the form [True Positive, False Positive; False Negative, True Negative]\n",
    "    # total =  tp + fp + fn + tn\n",
    "    total = A.sum()\n",
    "    \n",
    "    tp, fp, fn, tn = A[1,1], Ap[1,2], A[2,1], A[2,2] \n",
    "    \n",
    "    accuracy = (tp + tn) / total # value ranging [0,1], best case fn = fp = 0 and accuracy = 1.\n",
    "    error_rate = 1 - accuracy\n",
    "    positivePredictiveValue = tp / (tp + fp)\n",
    "    sensitivity = tp / (tp + fn)\n",
    "    specificity = tn / (tn + fp)\n",
    "    \n",
    "    "
   ]
  },
  {
   "cell_type": "code",
   "execution_count": 26,
   "metadata": {},
   "outputs": [],
   "source": [
    "import numpy as np\n",
    "\n",
    "class Perceptron(object):\n",
    "    \"\"\"Perceptron classifier\n",
    "    \n",
    "    Parameters\n",
    "    -----------\n",
    "    eta: float\n",
    "        Learning rate (between 0.0 and 1.0)\n",
    "    n_iter : int\n",
    "        Passes over the training data set\n",
    "        \n",
    "    Attributes\n",
    "    ----------\n",
    "    w_ : 1d-array\n",
    "        weights after fitting\n",
    "    errors_: list\n",
    "        number of missclassifications in every epoch\n",
    "    \"\"\"\n",
    "    \n",
    "    def __init__(self, eta=0.01, n_iter=10):\n",
    "        self.eta = eta\n",
    "        self.n_iter = n_iter\n",
    "        \n",
    "    def fit(self, X, y):\n",
    "        \"\"\"Fit training data\n",
    "        \n",
    "        Parameters\n",
    "        -----------\n",
    "        X: {array-like}, shape = [n_samples, n_features]\n",
    "            Training vectors, where n_samples is the number of\n",
    "            samples and n_features is the number of features\n",
    "        y : array-like, shape = [n_samples]\n",
    "            Target values\n",
    "            \n",
    "        Returns\n",
    "        --------\n",
    "        self : object\n",
    "        \"\"\"\n",
    "        \n",
    "        # Initialize weight vector to zeros, adding length\n",
    "        # one for the threshold / zero weight w0\n",
    "        self.w_ = np.zeros(1 + X.shape[1])\n",
    "        self.errors_ = []\n",
    "        \n",
    "        for _ in range(self.n_iter):\n",
    "            errors = 0\n",
    "            for xi, target in zip(X,y):\n",
    "                update = self.eta * (target - self.predict(xi))\n",
    "                self.w_[1:] += update * xi\n",
    "                self.w_[0] += update\n",
    "                errors += int(update != 0.0)\n",
    "            self.errors_.append(errors)\n",
    "        return self\n",
    "    \n",
    "    def net_input(self, X):\n",
    "        \"\"\"Calculate net input\"\"\"\n",
    "        return np.dot(X, self.w_[1:]) + self.w_[0]\n",
    "    \n",
    "    def predict(self, X):\n",
    "        \"\"\"Return class label after unit setup\"\"\"\n",
    "        return np.where(self.net_input(X) >= 0.0, 1, -1)"
   ]
  },
  {
   "cell_type": "code",
   "execution_count": 81,
   "metadata": {},
   "outputs": [
    {
     "name": "stdout",
     "output_type": "stream",
     "text": [
      "       0    1    2    3               4\n",
      "145  6.7  3.0  5.2  2.3  Iris-virginica\n",
      "146  6.3  2.5  5.0  1.9  Iris-virginica\n",
      "147  6.5  3.0  5.2  2.0  Iris-virginica\n",
      "148  6.2  3.4  5.4  2.3  Iris-virginica\n",
      "149  5.9  3.0  5.1  1.8  Iris-virginica\n",
      "['Iris-setosa' 'Iris-setosa' 'Iris-setosa' 'Iris-setosa' 'Iris-setosa'\n",
      " 'Iris-setosa' 'Iris-setosa' 'Iris-setosa' 'Iris-setosa' 'Iris-setosa'\n",
      " 'Iris-setosa' 'Iris-setosa' 'Iris-setosa' 'Iris-setosa' 'Iris-setosa'\n",
      " 'Iris-setosa' 'Iris-setosa' 'Iris-setosa' 'Iris-setosa' 'Iris-setosa'\n",
      " 'Iris-setosa' 'Iris-setosa' 'Iris-setosa' 'Iris-setosa' 'Iris-setosa'\n",
      " 'Iris-setosa' 'Iris-setosa' 'Iris-setosa' 'Iris-setosa' 'Iris-setosa'\n",
      " 'Iris-setosa' 'Iris-setosa' 'Iris-setosa' 'Iris-setosa' 'Iris-setosa'\n",
      " 'Iris-setosa' 'Iris-setosa' 'Iris-setosa' 'Iris-setosa' 'Iris-setosa'\n",
      " 'Iris-setosa' 'Iris-setosa' 'Iris-setosa' 'Iris-setosa' 'Iris-setosa'\n",
      " 'Iris-setosa' 'Iris-setosa' 'Iris-setosa' 'Iris-setosa' 'Iris-setosa'\n",
      " 'Iris-versicolor' 'Iris-versicolor' 'Iris-versicolor' 'Iris-versicolor'\n",
      " 'Iris-versicolor' 'Iris-versicolor' 'Iris-versicolor' 'Iris-versicolor'\n",
      " 'Iris-versicolor' 'Iris-versicolor' 'Iris-versicolor' 'Iris-versicolor'\n",
      " 'Iris-versicolor' 'Iris-versicolor' 'Iris-versicolor' 'Iris-versicolor'\n",
      " 'Iris-versicolor' 'Iris-versicolor' 'Iris-versicolor' 'Iris-versicolor'\n",
      " 'Iris-versicolor' 'Iris-versicolor' 'Iris-versicolor' 'Iris-versicolor'\n",
      " 'Iris-versicolor' 'Iris-versicolor' 'Iris-versicolor' 'Iris-versicolor'\n",
      " 'Iris-versicolor' 'Iris-versicolor' 'Iris-versicolor' 'Iris-versicolor'\n",
      " 'Iris-versicolor' 'Iris-versicolor' 'Iris-versicolor' 'Iris-versicolor'\n",
      " 'Iris-versicolor' 'Iris-versicolor' 'Iris-versicolor' 'Iris-versicolor'\n",
      " 'Iris-versicolor' 'Iris-versicolor' 'Iris-versicolor' 'Iris-versicolor'\n",
      " 'Iris-versicolor' 'Iris-versicolor' 'Iris-versicolor' 'Iris-versicolor'\n",
      " 'Iris-versicolor' 'Iris-versicolor']\n"
     ]
    },
    {
     "data": {
      "image/png": "[encoded data removed]",
      "text/plain": [
       "<Figure size 432x288 with 1 Axes>"
      ]
     },
     "metadata": {
      "needs_background": "light"
     },
     "output_type": "display_data"
    },
    {
     "data": {
      "image/png": "[encoded data removed]",
      "text/plain": [
       "<Figure size 432x288 with 1 Axes>"
      ]
     },
     "metadata": {
      "needs_background": "light"
     },
     "output_type": "display_data"
    }
   ],
   "source": [
    "import pandas as pd\n",
    "df = pd.read_csv(\"https://archive.ics.uci.edu/ml/machine-learning-databases/iris/iris.data\", header=None)\n",
    "print(df.tail())\n",
    "\n",
    "# Extract the fourth feature (collumn) from samples (rows) 0-100\n",
    "y = df.iloc[0:100, 4].values\n",
    "print(y)\n",
    "\n",
    "# Replace asll instances of \"Iris-setosa\" with -1, else replace with +1\n",
    "y = np.where(y == \"Iris-setosa\", -1, 1)\n",
    "y\n",
    "\n",
    "# Retrieve the 1st and 3rd feature (collumn) from the first 100 samples\n",
    "# 1st feature is Sepal Length, 3rd feature is Petal Length\n",
    "X = df.iloc[0:100, [0,2]].values\n",
    "X\n",
    "\n",
    "plt.scatter(X[:50, 0], X[:50, 1], color='red', marker='o', label='setosa')\n",
    "plt.scatter(X[50:100, 0], X[50:100, 1], color='blue', marker='x', label='veriscolor')\n",
    "plt.xlabel('sepal length (cm)')\n",
    "plt.ylabel('petal length (cm)')\n",
    "plt.legend(loc='upper left')\n",
    "plt.show()\n",
    "\n",
    "ppn = Perceptron(eta=0.1, n_iter=10)\n",
    "ppn.fit(X,y)\n",
    "plt.plot(range(1, len(ppn.errors_) + 1), ppn.errors_, marker='o')\n",
    "plt.grid(True)\n",
    "plt.xticks(np.arange(1,11,1))\n",
    "plt.xlabel('Epoch')\n",
    "plt.ylabel('Number of Missclassifications')\n",
    "plt.show()"
   ]
  },
  {
   "cell_type": "code",
   "execution_count": 51,
   "metadata": {},
   "outputs": [
    {
     "data": {
      "text/plain": [
       "0"
      ]
     },
     "execution_count": 51,
     "metadata": {},
     "output_type": "execute_result"
    }
   ],
   "source": []
  }
 ],
 "metadata": {
  "kernelspec": {
   "display_name": "Python 3",
   "language": "python",
   "name": "python3"
  },
  "language_info": {
   "codemirror_mode": {
    "name": "ipython",
    "version": 3
   },
   "file_extension": ".py",
   "mimetype": "text/x-python",
   "name": "python",
   "nbconvert_exporter": "python",
   "pygments_lexer": "ipython3",
   "version": "3.6.7"
  }
 },
 "nbformat": 4,
 "nbformat_minor": 2
}
