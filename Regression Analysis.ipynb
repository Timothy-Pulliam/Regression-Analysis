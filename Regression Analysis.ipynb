{
 "cells": [
  {
   "cell_type": "code",
   "execution_count": 1,
   "metadata": {},
   "outputs": [
    {
     "ename": "SyntaxError",
     "evalue": "unexpected EOF while parsing (<ipython-input-1-93ff2c429c08>, line 6)",
     "output_type": "error",
     "traceback": [
      "\u001b[1;36m  File \u001b[1;32m\"<ipython-input-1-93ff2c429c08>\"\u001b[1;36m, line \u001b[1;32m6\u001b[0m\n\u001b[1;33m    \u001b[0m\n\u001b[1;37m    ^\u001b[0m\n\u001b[1;31mSyntaxError\u001b[0m\u001b[1;31m:\u001b[0m unexpected EOF while parsing\n"
     ]
    }
   ],
   "source": [
    "def frequencyDistribution(x, n):\n",
    "    # x = dataSet (python list)\n",
    "    # n = number of bins\n",
    "    # fd = the \n",
    "    \n",
    "    binSize = round(range) / n\n",
    "    for _ in x:\n",
    "        if x in range(binSize):\n",
    "            \n",
    "    \n"
   ]
  },
  {
   "cell_type": "code",
   "execution_count": 28,
   "metadata": {},
   "outputs": [
    {
     "name": "stdout",
     "output_type": "stream",
     "text": [
      "0.6930525298193005\n"
     ]
    }
   ],
   "source": [
    "from statistics import mean\n",
    "from math import sqrt\n",
    "\n",
    "def correlationCoefficient(x,y):\n",
    "    assert len(x) == len(y), \"Datasets must be the same length\"\n",
    "        \n",
    "    n = len(x)\n",
    "    num1 = sum([i * j for i, j in zip(x,y)])\n",
    "    num2 = n * mean(x) * mean(y)\n",
    "    den1 = sum([i**2 for i in x]) - n * mean(x)**2\n",
    "    den2 = sum([i**2 for i in y]) - n * mean(y)**2\n",
    "    print((num1 - num2) / (sqrt(den1) * sqrt(den2)))\n",
    "    \n",
    "x = [95,85,80,70,60,]\n",
    "y = [85,95,70,65,70]\n",
    "\n",
    "correlationCoefficient(x,y)"
   ]
  },
  {
   "cell_type": "code",
   "execution_count": 4,
   "metadata": {},
   "outputs": [
    {
     "data": {
      "text/plain": [
       "[2, 3, 4, 5, 6]"
      ]
     },
     "execution_count": 4,
     "metadata": {},
     "output_type": "execute_result"
    }
   ],
   "source": [
    "a = [4,6,2,3,5]\n",
    "a.sort()\n",
    "a"
   ]
  },
  {
   "cell_type": "code",
   "execution_count": 27,
   "metadata": {},
   "outputs": [
    {
     "name": "stdout",
     "output_type": "stream",
     "text": [
      "Estimated coefficients:\n",
      "b_0 = 26.78082191780822 \n",
      "b_1 = 0.6438356164383562\n"
     ]
    },
    {
     "data": {
      "image/png": "[encoded data removed]",
      "text/plain": [
       "<Figure size 432x288 with 1 Axes>"
      ]
     },
     "metadata": {
      "needs_background": "light"
     },
     "output_type": "display_data"
    }
   ],
   "source": [
    "import numpy as np \n",
    "import matplotlib.pyplot as plt \n",
    "\n",
    "def simpleRegression(x, y): \n",
    "    # number of observations/points \n",
    "    assert len(x) == len(y), \"Datasets must be the same length\"\n",
    "    \n",
    "    n = np.size(x) \n",
    "\n",
    "    # mean of x and y vector \n",
    "    m_x, m_y = np.mean(x), np.mean(y) \n",
    "\n",
    "    # calculating cross-deviation and deviation about x \n",
    "    SS_xy = np.sum(y*x) - n*m_y*m_x \n",
    "    SS_xx = np.sum(x*x) - n*m_x*m_x \n",
    "\n",
    "    # calculating regression coefficients \n",
    "    b_1 = SS_xy / SS_xx \n",
    "    b_0 = m_y - b_1*m_x \n",
    "\n",
    "    return(b_0, b_1) \n",
    "\n",
    "def plot_regression_line(x, y, b): \n",
    "    # plotting the actual points as scatter plot \n",
    "    plt.scatter(x, y, color = \"m\", \n",
    "            marker = \"o\", s = 30) \n",
    "\n",
    "    # predicted response vector \n",
    "    y_pred = b[0] + b[1]*x \n",
    "\n",
    "    # plotting the regression line \n",
    "    plt.plot(x, y_pred, color = \"g\") \n",
    "\n",
    "    # putting labels \n",
    "    plt.xlabel('x') \n",
    "    plt.ylabel('y') \n",
    "\n",
    "    # function to show plot \n",
    "    plt.show() \n",
    "\n",
    "def main(): \n",
    "    # observations \n",
    "    x = np.array([0, 1, 2, 3, 4, 5, 6, 7, 8, 9]) \n",
    "    y = np.array([1, 3, 2, 5, 7, 8, 8, 9, 10, 12]) \n",
    "    \n",
    "    x = np.array([95,85,80,70,60,])\n",
    "    y = np.array([85,95,70,65,70])\n",
    "\n",
    "    # estimating coefficients \n",
    "    b = simpleRegression(x, y) \n",
    "    print(\"Estimated coefficients:\\nb_0 = {} \\nb_1 = {}\".format(b[0], b[1])) \n",
    "\n",
    "    # plotting regression line \n",
    "    plot_regression_line(x, y, b) \n",
    "\n",
    "if __name__ == \"__main__\": \n",
    "    main()\n",
    " \n",
    "\n",
    "\n"
   ]
  },
  {
   "cell_type": "code",
   "execution_count": 36,
   "metadata": {},
   "outputs": [
    {
     "data": {
      "text/plain": [
       "2.449489742783178"
      ]
     },
     "execution_count": 36,
     "metadata": {},
     "output_type": "execute_result"
    }
   ],
   "source": [
    "from math import sqrt\n",
    "\n",
    "x = [1,1,1,1,0]\n",
    "y = [1,0,1,0,4]\n",
    "\n",
    "def euclideanDistance(x,y):\n",
    "    distance = sqrt( sum( [ abs( i-j ) for i,j in zip(x,y)]))\n",
    "    return distance\n",
    "\n",
    "euclideanDistance(x,y)"
   ]
  },
  {
   "cell_type": "code",
   "execution_count": 38,
   "metadata": {},
   "outputs": [],
   "source": [
    "'''A confusion matrix is a table that is often used to describe the performance of a classification model \n",
    "(or \"classifier\") on a set of test data for which the true values are known.'''\n",
    "\n",
    "import numpy\n",
    "\n",
    "def confusionMatrix(A):\n",
    "    # A is a numpy matrix of the form [True Positive, False Positive; False Negative, True Negative]\n",
    "    # total =  tp + fp + fn + tn\n",
    "    total = A.sum()\n",
    "    \n",
    "    tp, fp, fn, tn = A[1,1], Ap[1,2], A[2,1], A[2,2] \n",
    "    \n",
    "    accuracy = (tp + tn) / total # value ranging [0,1], best case fn = fp = 0 and accuracy = 1.\n",
    "    error_rate = 1 - accuracy\n",
    "    positivePredictiveValue = tp / (tp + fp)\n",
    "    sensitivity = tp / (tp + fn)\n",
    "    specificity = tn / (tn + fp)\n",
    "    \n",
    "    "
   ]
  }
 ],
 "metadata": {
  "kernelspec": {
   "display_name": "Python 3",
   "language": "python",
   "name": "python3"
  },
  "language_info": {
   "codemirror_mode": {
    "name": "ipython",
    "version": 3
   },
   "file_extension": ".py",
   "mimetype": "text/x-python",
   "name": "python",
   "nbconvert_exporter": "python",
   "pygments_lexer": "ipython3",
   "version": "3.6.5"
  }
 },
 "nbformat": 4,
 "nbformat_minor": 2
}
